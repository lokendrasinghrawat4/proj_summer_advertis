{
 "cells": [
  {
   "cell_type": "code",
   "execution_count": 37,
   "id": "93249ca1-700a-4c71-937c-daf3244e1762",
   "metadata": {},
   "outputs": [],
   "source": [
    "import numpy as np\n",
    "import pandas as pd\n",
    "import seaborn as sns\n",
    "import matplotlib.pyplot as plt\n",
    "from sklearn.model_selection import train_test_split\n",
    "from sklearn.linear_model import LinearRegression\n"
   ]
  },
  {
   "cell_type": "code",
   "execution_count": 38,
   "id": "eadb9a55-a376-4192-9760-626d1a8c922a",
   "metadata": {},
   "outputs": [],
   "source": [
    "df=pd.read_csv(\"C:\\\\Users\\\\singh\\\\Downloads\\\\Advertising.csv\")"
   ]
  },
  {
   "cell_type": "code",
   "execution_count": 39,
   "id": "1df04da5-c6c8-4c93-92bb-614ea10cab1d",
   "metadata": {},
   "outputs": [
    {
     "data": {
      "text/html": [
       "<div>\n",
       "<style scoped>\n",
       "    .dataframe tbody tr th:only-of-type {\n",
       "        vertical-align: middle;\n",
       "    }\n",
       "\n",
       "    .dataframe tbody tr th {\n",
       "        vertical-align: top;\n",
       "    }\n",
       "\n",
       "    .dataframe thead th {\n",
       "        text-align: right;\n",
       "    }\n",
       "</style>\n",
       "<table border=\"1\" class=\"dataframe\">\n",
       "  <thead>\n",
       "    <tr style=\"text-align: right;\">\n",
       "      <th></th>\n",
       "      <th>TV</th>\n",
       "      <th>Radio</th>\n",
       "      <th>Newspaper</th>\n",
       "      <th>Sales</th>\n",
       "    </tr>\n",
       "  </thead>\n",
       "  <tbody>\n",
       "    <tr>\n",
       "      <th>0</th>\n",
       "      <td>230.1</td>\n",
       "      <td>37.8</td>\n",
       "      <td>69.2</td>\n",
       "      <td>22.1</td>\n",
       "    </tr>\n",
       "    <tr>\n",
       "      <th>1</th>\n",
       "      <td>44.5</td>\n",
       "      <td>39.3</td>\n",
       "      <td>45.1</td>\n",
       "      <td>10.4</td>\n",
       "    </tr>\n",
       "    <tr>\n",
       "      <th>2</th>\n",
       "      <td>17.2</td>\n",
       "      <td>45.9</td>\n",
       "      <td>69.3</td>\n",
       "      <td>12.0</td>\n",
       "    </tr>\n",
       "    <tr>\n",
       "      <th>3</th>\n",
       "      <td>151.5</td>\n",
       "      <td>41.3</td>\n",
       "      <td>58.5</td>\n",
       "      <td>16.5</td>\n",
       "    </tr>\n",
       "    <tr>\n",
       "      <th>4</th>\n",
       "      <td>180.8</td>\n",
       "      <td>10.8</td>\n",
       "      <td>58.4</td>\n",
       "      <td>17.9</td>\n",
       "    </tr>\n",
       "  </tbody>\n",
       "</table>\n",
       "</div>"
      ],
      "text/plain": [
       "      TV  Radio  Newspaper  Sales\n",
       "0  230.1   37.8       69.2   22.1\n",
       "1   44.5   39.3       45.1   10.4\n",
       "2   17.2   45.9       69.3   12.0\n",
       "3  151.5   41.3       58.5   16.5\n",
       "4  180.8   10.8       58.4   17.9"
      ]
     },
     "execution_count": 39,
     "metadata": {},
     "output_type": "execute_result"
    }
   ],
   "source": [
    "df.head()"
   ]
  },
  {
   "cell_type": "code",
   "execution_count": 40,
   "id": "1fc0943f-5ff5-47a6-b8db-0ef09494f37a",
   "metadata": {},
   "outputs": [
    {
     "data": {
      "text/plain": [
       "(200, 4)"
      ]
     },
     "execution_count": 40,
     "metadata": {},
     "output_type": "execute_result"
    }
   ],
   "source": [
    "df.shape"
   ]
  },
  {
   "cell_type": "code",
   "execution_count": 41,
   "id": "47c57d7c-d6e3-4a86-8f3a-a09e9dee3bb4",
   "metadata": {},
   "outputs": [
    {
     "data": {
      "text/html": [
       "<div>\n",
       "<style scoped>\n",
       "    .dataframe tbody tr th:only-of-type {\n",
       "        vertical-align: middle;\n",
       "    }\n",
       "\n",
       "    .dataframe tbody tr th {\n",
       "        vertical-align: top;\n",
       "    }\n",
       "\n",
       "    .dataframe thead th {\n",
       "        text-align: right;\n",
       "    }\n",
       "</style>\n",
       "<table border=\"1\" class=\"dataframe\">\n",
       "  <thead>\n",
       "    <tr style=\"text-align: right;\">\n",
       "      <th></th>\n",
       "      <th>TV</th>\n",
       "      <th>Radio</th>\n",
       "      <th>Newspaper</th>\n",
       "      <th>Sales</th>\n",
       "    </tr>\n",
       "  </thead>\n",
       "  <tbody>\n",
       "    <tr>\n",
       "      <th>0</th>\n",
       "      <td>False</td>\n",
       "      <td>False</td>\n",
       "      <td>False</td>\n",
       "      <td>False</td>\n",
       "    </tr>\n",
       "    <tr>\n",
       "      <th>1</th>\n",
       "      <td>False</td>\n",
       "      <td>False</td>\n",
       "      <td>False</td>\n",
       "      <td>False</td>\n",
       "    </tr>\n",
       "    <tr>\n",
       "      <th>2</th>\n",
       "      <td>False</td>\n",
       "      <td>False</td>\n",
       "      <td>False</td>\n",
       "      <td>False</td>\n",
       "    </tr>\n",
       "    <tr>\n",
       "      <th>3</th>\n",
       "      <td>False</td>\n",
       "      <td>False</td>\n",
       "      <td>False</td>\n",
       "      <td>False</td>\n",
       "    </tr>\n",
       "    <tr>\n",
       "      <th>4</th>\n",
       "      <td>False</td>\n",
       "      <td>False</td>\n",
       "      <td>False</td>\n",
       "      <td>False</td>\n",
       "    </tr>\n",
       "    <tr>\n",
       "      <th>...</th>\n",
       "      <td>...</td>\n",
       "      <td>...</td>\n",
       "      <td>...</td>\n",
       "      <td>...</td>\n",
       "    </tr>\n",
       "    <tr>\n",
       "      <th>195</th>\n",
       "      <td>False</td>\n",
       "      <td>False</td>\n",
       "      <td>False</td>\n",
       "      <td>False</td>\n",
       "    </tr>\n",
       "    <tr>\n",
       "      <th>196</th>\n",
       "      <td>False</td>\n",
       "      <td>False</td>\n",
       "      <td>False</td>\n",
       "      <td>False</td>\n",
       "    </tr>\n",
       "    <tr>\n",
       "      <th>197</th>\n",
       "      <td>False</td>\n",
       "      <td>False</td>\n",
       "      <td>False</td>\n",
       "      <td>False</td>\n",
       "    </tr>\n",
       "    <tr>\n",
       "      <th>198</th>\n",
       "      <td>False</td>\n",
       "      <td>False</td>\n",
       "      <td>False</td>\n",
       "      <td>False</td>\n",
       "    </tr>\n",
       "    <tr>\n",
       "      <th>199</th>\n",
       "      <td>False</td>\n",
       "      <td>False</td>\n",
       "      <td>False</td>\n",
       "      <td>False</td>\n",
       "    </tr>\n",
       "  </tbody>\n",
       "</table>\n",
       "<p>200 rows × 4 columns</p>\n",
       "</div>"
      ],
      "text/plain": [
       "        TV  Radio  Newspaper  Sales\n",
       "0    False  False      False  False\n",
       "1    False  False      False  False\n",
       "2    False  False      False  False\n",
       "3    False  False      False  False\n",
       "4    False  False      False  False\n",
       "..     ...    ...        ...    ...\n",
       "195  False  False      False  False\n",
       "196  False  False      False  False\n",
       "197  False  False      False  False\n",
       "198  False  False      False  False\n",
       "199  False  False      False  False\n",
       "\n",
       "[200 rows x 4 columns]"
      ]
     },
     "execution_count": 41,
     "metadata": {},
     "output_type": "execute_result"
    }
   ],
   "source": [
    "df.isnull()"
   ]
  },
  {
   "cell_type": "code",
   "execution_count": 42,
   "id": "e7cf48c8-2d25-444b-b682-0b73806a11b3",
   "metadata": {},
   "outputs": [
    {
     "data": {
      "text/plain": [
       "TV           0\n",
       "Radio        0\n",
       "Newspaper    0\n",
       "Sales        0\n",
       "dtype: int64"
      ]
     },
     "execution_count": 42,
     "metadata": {},
     "output_type": "execute_result"
    }
   ],
   "source": [
    "df.isnull().sum()"
   ]
  },
  {
   "cell_type": "code",
   "execution_count": 43,
   "id": "fa18f5fa-7d17-46d8-8c48-9d0acee57424",
   "metadata": {},
   "outputs": [
    {
     "data": {
      "text/plain": [
       "<Axes: >"
      ]
     },
     "execution_count": 43,
     "metadata": {},
     "output_type": "execute_result"
    },
    {
     "data": {
      "image/png": "[encoded data removed]",
      "text/plain": [
       "<Figure size 640x480 with 2 Axes>"
      ]
     },
     "metadata": {},
     "output_type": "display_data"
    }
   ],
   "source": [
    "sns.heatmap(df.isnull())"
   ]
  },
  {
   "cell_type": "code",
   "execution_count": 44,
   "id": "46969d24-d45d-4253-9643-06e2e4f57a29",
   "metadata": {},
   "outputs": [
    {
     "data": {
      "text/html": [
       "<div>\n",
       "<style scoped>\n",
       "    .dataframe tbody tr th:only-of-type {\n",
       "        vertical-align: middle;\n",
       "    }\n",
       "\n",
       "    .dataframe tbody tr th {\n",
       "        vertical-align: top;\n",
       "    }\n",
       "\n",
       "    .dataframe thead th {\n",
       "        text-align: right;\n",
       "    }\n",
       "</style>\n",
       "<table border=\"1\" class=\"dataframe\">\n",
       "  <thead>\n",
       "    <tr style=\"text-align: right;\">\n",
       "      <th></th>\n",
       "      <th>TV</th>\n",
       "      <th>Radio</th>\n",
       "      <th>Newspaper</th>\n",
       "      <th>Sales</th>\n",
       "    </tr>\n",
       "  </thead>\n",
       "  <tbody>\n",
       "    <tr>\n",
       "      <th>count</th>\n",
       "      <td>200.000000</td>\n",
       "      <td>200.000000</td>\n",
       "      <td>200.000000</td>\n",
       "      <td>200.000000</td>\n",
       "    </tr>\n",
       "    <tr>\n",
       "      <th>mean</th>\n",
       "      <td>147.042500</td>\n",
       "      <td>23.264000</td>\n",
       "      <td>30.554000</td>\n",
       "      <td>15.130500</td>\n",
       "    </tr>\n",
       "    <tr>\n",
       "      <th>std</th>\n",
       "      <td>85.854236</td>\n",
       "      <td>14.846809</td>\n",
       "      <td>21.778621</td>\n",
       "      <td>5.283892</td>\n",
       "    </tr>\n",
       "    <tr>\n",
       "      <th>min</th>\n",
       "      <td>0.700000</td>\n",
       "      <td>0.000000</td>\n",
       "      <td>0.300000</td>\n",
       "      <td>1.600000</td>\n",
       "    </tr>\n",
       "    <tr>\n",
       "      <th>25%</th>\n",
       "      <td>74.375000</td>\n",
       "      <td>9.975000</td>\n",
       "      <td>12.750000</td>\n",
       "      <td>11.000000</td>\n",
       "    </tr>\n",
       "    <tr>\n",
       "      <th>50%</th>\n",
       "      <td>149.750000</td>\n",
       "      <td>22.900000</td>\n",
       "      <td>25.750000</td>\n",
       "      <td>16.000000</td>\n",
       "    </tr>\n",
       "    <tr>\n",
       "      <th>75%</th>\n",
       "      <td>218.825000</td>\n",
       "      <td>36.525000</td>\n",
       "      <td>45.100000</td>\n",
       "      <td>19.050000</td>\n",
       "    </tr>\n",
       "    <tr>\n",
       "      <th>max</th>\n",
       "      <td>296.400000</td>\n",
       "      <td>49.600000</td>\n",
       "      <td>114.000000</td>\n",
       "      <td>27.000000</td>\n",
       "    </tr>\n",
       "  </tbody>\n",
       "</table>\n",
       "</div>"
      ],
      "text/plain": [
       "               TV       Radio   Newspaper       Sales\n",
       "count  200.000000  200.000000  200.000000  200.000000\n",
       "mean   147.042500   23.264000   30.554000   15.130500\n",
       "std     85.854236   14.846809   21.778621    5.283892\n",
       "min      0.700000    0.000000    0.300000    1.600000\n",
       "25%     74.375000    9.975000   12.750000   11.000000\n",
       "50%    149.750000   22.900000   25.750000   16.000000\n",
       "75%    218.825000   36.525000   45.100000   19.050000\n",
       "max    296.400000   49.600000  114.000000   27.000000"
      ]
     },
     "execution_count": 44,
     "metadata": {},
     "output_type": "execute_result"
    }
   ],
   "source": [
    "df.describe()\n"
   ]
  },
  {
   "cell_type": "markdown",
   "id": "2e0e60ff-ac04-46d7-bea7-898837a4f258",
   "metadata": {},
   "source": [
    "**Observation**\n",
    "avg expense is highest on tv\n",
    "avg expense is lowest on radio\n",
    "max sale is 27 \n",
    "min sale is 1.6"
   ]
  },
  {
   "cell_type": "code",
   "execution_count": 45,
   "id": "dec18a23-2455-48df-b8f7-b42081abb11b",
   "metadata": {},
   "outputs": [
    {
     "data": {
      "image/png": "[encoded data removed]",
      "text/plain": [
       "<Figure size 750x250 with 3 Axes>"
      ]
     },
     "metadata": {},
     "output_type": "display_data"
    }
   ],
   "source": [
    "sns.pairplot(df, x_vars=[\"TV\", \"Radio\", \"Newspaper\"], y_vars=\"Sales\")\n",
    "plt.show()\n"
   ]
  },
  {
   "cell_type": "code",
   "execution_count": 46,
   "id": "f0cc6aab-5a75-49f6-aefd-e90212bfe859",
   "metadata": {},
   "outputs": [],
   "source": [
    "#observation:\n",
    "#when advertising cost increases in TV sales also increases but it is unpredictable in radio and newspaper"
   ]
  },
  {
   "cell_type": "code",
   "execution_count": 47,
   "id": "53d5dc01-fae0-4467-aeeb-22dd04cc1dee",
   "metadata": {},
   "outputs": [
    {
     "data": {
      "image/png": "[encoded data removed]",
      "text/plain": [
       "<Figure size 640x480 with 1 Axes>"
      ]
     },
     "metadata": {},
     "output_type": "display_data"
    }
   ],
   "source": [
    "df['TV'].plot.hist(title='TV Advertising Budget Distribution')\n",
    "plt.show()"
   ]
  },
  {
   "cell_type": "code",
   "execution_count": 48,
   "id": "226f0c96-479f-424b-8ce3-952219257540",
   "metadata": {},
   "outputs": [
    {
     "data": {
      "image/png": "[encoded data removed]",
      "text/plain": [
       "<Figure size 640x480 with 1 Axes>"
      ]
     },
     "metadata": {},
     "output_type": "display_data"
    }
   ],
   "source": [
    "df['Radio'].plot.hist(title='Radio Advertising Budget Distribution')\n",
    "plt.show()"
   ]
  },
  {
   "cell_type": "code",
   "execution_count": 49,
   "id": "6402ddb6-262e-4dca-9ed3-ab758491bfee",
   "metadata": {},
   "outputs": [
    {
     "data": {
      "image/png": "[encoded data removed]",
      "text/plain": [
       "<Figure size 640x480 with 1 Axes>"
      ]
     },
     "metadata": {},
     "output_type": "display_data"
    }
   ],
   "source": [
    "\n",
    "df['Newspaper'].plot.hist(title='Newspaper Advertising Budget Distribution')\n",
    "plt.show()"
   ]
  },
  {
   "cell_type": "code",
   "execution_count": 50,
   "id": "2b1c1fca-dc5e-41e7-8827-583535bdf45e",
   "metadata": {},
   "outputs": [],
   "source": [
    "#hitogram observation:\n",
    "#the majority sales  is the result of low advertising cost  in newspaper"
   ]
  },
  {
   "cell_type": "code",
   "execution_count": 51,
   "id": "424abd27-166d-42e5-936d-5c48e98ff1f1",
   "metadata": {},
   "outputs": [
    {
     "data": {
      "image/png": "[encoded data removed]",
      "text/plain": [
       "<Figure size 640x480 with 2 Axes>"
      ]
     },
     "metadata": {},
     "output_type": "display_data"
    }
   ],
   "source": [
    "\n",
    "sns.heatmap(df.corr(), annot=True)\n",
    "plt.show()\n"
   ]
  },
  {
   "cell_type": "code",
   "execution_count": 52,
   "id": "f9df0da9-ab9f-4531-8bd5-d38cbd3c2203",
   "metadata": {},
   "outputs": [],
   "source": [
    "\n",
    "# Split dataset into train and test sets using all three features\n",
    "x = df[['TV', 'Radio', 'Newspaper']]\n",
    "y = df['Sales']\n",
    "x_train, x_test, y_train, y_test = train_test_split(x, y, test_size=0.3, random_state=0)"
   ]
  },
  {
   "cell_type": "code",
   "execution_count": 53,
   "id": "c7117cd2-ab2b-4313-a6b4-871d2102f314",
   "metadata": {},
   "outputs": [
    {
     "data": {
      "text/plain": [
       "'observation:SALES ARE HIGHLy CORELATED WITH TV'"
      ]
     },
     "execution_count": 53,
     "metadata": {},
     "output_type": "execute_result"
    }
   ],
   "source": [
    "'''observation:SALES ARE HIGHLy CORELATED WITH TV'''"
   ]
  },
  {
   "cell_type": "markdown",
   "id": "11ba0da5-c754-4df9-8d89-144768761e30",
   "metadata": {},
   "source": [
    "**MODEL TRAINING USING LINEAR REGRESSION AS IT IS CORELATED WITH ONLY  ONE VARIABLE TV**"
   ]
  },
  {
   "cell_type": "code",
   "execution_count": 54,
   "id": "3465a838-c1a1-4ad7-8e4b-d9f5cbfe142d",
   "metadata": {},
   "outputs": [
    {
     "name": "stdout",
     "output_type": "stream",
     "text": [
      "        TV  Radio  Newspaper\n",
      "131  265.2    2.9       43.0\n",
      "96   197.6    3.5        5.9\n",
      "181  218.5    5.4       27.4\n",
      "19   147.3   23.9       19.1\n",
      "153  171.3   39.7       37.7\n",
      "..     ...    ...        ...\n",
      "67   139.3   14.5       10.2\n",
      "192   17.2    4.1       31.6\n",
      "117   76.4    0.8       14.8\n",
      "47   239.9   41.5       18.5\n",
      "172   19.6   20.1       17.0\n",
      "\n",
      "[140 rows x 3 columns]\n"
     ]
    }
   ],
   "source": [
    "print(x_train)"
   ]
  },
  {
   "cell_type": "code",
   "execution_count": 55,
   "id": "aed4d8c5-c3c1-4513-bf41-c1dcf5d9f92f",
   "metadata": {},
   "outputs": [
    {
     "name": "stdout",
     "output_type": "stream",
     "text": [
      "131    17.7\n",
      "96     16.7\n",
      "181    17.2\n",
      "19     14.6\n",
      "153    16.0\n",
      "       ... \n",
      "67     13.4\n",
      "192     5.9\n",
      "117     9.4\n",
      "47     23.2\n",
      "172     7.6\n",
      "Name: Sales, Length: 140, dtype: float64\n"
     ]
    }
   ],
   "source": [
    "print(y_train)"
   ]
  },
  {
   "cell_type": "code",
   "execution_count": 56,
   "id": "86659574-36e2-42c8-a412-337df2b97475",
   "metadata": {},
   "outputs": [
    {
     "name": "stdout",
     "output_type": "stream",
     "text": [
      "        TV  Radio  Newspaper\n",
      "18    69.2   20.5       18.3\n",
      "170   50.0   11.6       18.4\n",
      "107   90.4    0.3       23.2\n",
      "98   289.7   42.3       51.2\n",
      "177  170.2    7.8       35.2\n",
      "182   56.2    5.7       29.7\n",
      "5      8.7   48.9       75.0\n",
      "146  240.1    7.3        8.7\n",
      "12    23.8   35.1       65.9\n",
      "152  197.6   23.3       14.2\n",
      "61   261.3   42.7       54.7\n",
      "125   87.2   11.8       25.9\n",
      "180  156.6    2.6        8.3\n",
      "154  187.8   21.1        9.5\n",
      "80    76.4   26.7       22.3\n",
      "7    120.2   19.6       11.6\n",
      "33   265.6   20.0        0.3\n",
      "130    0.7   39.6        8.7\n",
      "37    74.7   49.4       45.7\n",
      "74   213.4   24.6       13.1\n",
      "183  287.6   43.0       71.8\n",
      "145  140.3    1.9        9.0\n",
      "45   175.1   22.5       31.5\n",
      "159  131.7   18.4       34.6\n",
      "60    53.5    2.0       21.4\n",
      "123  123.1   34.6       12.4\n",
      "179  165.6   10.0       17.6\n",
      "185  205.0   45.1       19.6\n",
      "122  224.0    2.4       15.6\n",
      "44    25.1   25.7       43.3\n",
      "16    67.8   36.6      114.0\n",
      "55   198.9   49.4       60.0\n",
      "150  280.7   13.9       37.0\n",
      "111  241.7   38.0       23.2\n",
      "22    13.2   15.9       49.6\n",
      "189   18.7   12.1       23.4\n",
      "129   59.6   12.0       43.1\n",
      "4    180.8   10.8       58.4\n",
      "83    68.4   44.5       35.6\n",
      "106   25.0   11.0       29.7\n",
      "134   36.9   38.6       65.6\n",
      "66    31.5   24.6        2.2\n",
      "26   142.9   29.3       12.6\n",
      "113  209.6   20.6       10.7\n",
      "168  215.4   23.6       57.6\n",
      "63   102.7   29.6        8.4\n",
      "8      8.6    2.1        1.0\n",
      "75    16.9   43.7       89.4\n",
      "118  125.7   36.9       79.2\n",
      "143  104.6    5.7       34.4\n",
      "71   109.8   14.3       31.7\n",
      "124  229.5   32.3       74.2\n",
      "184  253.8   21.3       30.0\n",
      "97   184.9   21.0       22.0\n",
      "149   44.7   25.8       20.6\n",
      "24    62.3   12.6       18.3\n",
      "30   292.9   28.3       43.2\n",
      "160  172.5   18.1       30.7\n",
      "40   202.5   22.3       31.6\n",
      "56     7.3   28.1       41.4\n"
     ]
    }
   ],
   "source": [
    "print(x_test)\n"
   ]
  },
  {
   "cell_type": "code",
   "execution_count": 57,
   "id": "48514566-ab74-49bc-9033-70e0ff50c758",
   "metadata": {},
   "outputs": [
    {
     "name": "stdout",
     "output_type": "stream",
     "text": [
      "18     11.3\n",
      "170     8.4\n",
      "107    12.0\n",
      "98     25.4\n",
      "177    16.7\n",
      "182     8.7\n",
      "5       7.2\n",
      "146    18.2\n",
      "12      9.2\n",
      "152    16.6\n",
      "61     24.2\n",
      "125    10.6\n",
      "180    15.5\n",
      "154    20.6\n",
      "80     11.8\n",
      "7      13.2\n",
      "33     17.4\n",
      "130     1.6\n",
      "37     14.7\n",
      "74     17.0\n",
      "183    26.2\n",
      "145    10.3\n",
      "45     16.1\n",
      "159    12.9\n",
      "60      8.1\n",
      "123    15.2\n",
      "179    17.6\n",
      "185    22.6\n",
      "122    16.6\n",
      "44      8.5\n",
      "16     12.5\n",
      "55     23.7\n",
      "150    16.1\n",
      "111    21.8\n",
      "22      5.6\n",
      "189     6.7\n",
      "129     9.7\n",
      "4      17.9\n",
      "83     13.6\n",
      "106     7.2\n",
      "134    10.8\n",
      "66     11.0\n",
      "26     15.0\n",
      "113    20.9\n",
      "168    17.1\n",
      "63     14.0\n",
      "8       4.8\n",
      "75      8.7\n",
      "118    15.9\n",
      "143    10.4\n",
      "71     12.4\n",
      "124    19.7\n",
      "184    17.6\n",
      "97     20.5\n",
      "149    10.1\n",
      "24      9.7\n",
      "30     21.4\n",
      "160    16.4\n",
      "40     16.6\n",
      "56      5.5\n",
      "Name: Sales, dtype: float64\n"
     ]
    }
   ],
   "source": [
    "print(y_test)"
   ]
  },
  {
   "cell_type": "code",
   "execution_count": 58,
   "id": "3063944d-d0c7-4159-b865-8c3fed4aa455",
   "metadata": {},
   "outputs": [
    {
     "data": {
      "text/html": [
       "<style>#sk-container-id-2 {color: black;background-color: white;}#sk-container-id-2 pre{padding: 0;}#sk-container-id-2 div.sk-toggleable {background-color: white;}#sk-container-id-2 label.sk-toggleable__label {cursor: pointer;display: block;width: 100%;margin-bottom: 0;padding: 0.3em;box-sizing: border-box;text-align: center;}#sk-container-id-2 label.sk-toggleable__label-arrow:before {content: \"▸\";float: left;margin-right: 0.25em;color: #696969;}#sk-container-id-2 label.sk-toggleable__label-arrow:hover:before {color: black;}#sk-container-id-2 div.sk-estimator:hover label.sk-toggleable__label-arrow:before {color: black;}#sk-container-id-2 div.sk-toggleable__content {max-height: 0;max-width: 0;overflow: hidden;text-align: left;background-color: #f0f8ff;}#sk-container-id-2 div.sk-toggleable__content pre {margin: 0.2em;color: black;border-radius: 0.25em;background-color: #f0f8ff;}#sk-container-id-2 input.sk-toggleable__control:checked~div.sk-toggleable__content {max-height: 200px;max-width: 100%;overflow: auto;}#sk-container-id-2 input.sk-toggleable__control:checked~label.sk-toggleable__label-arrow:before {content: \"▾\";}#sk-container-id-2 div.sk-estimator input.sk-toggleable__control:checked~label.sk-toggleable__label {background-color: #d4ebff;}#sk-container-id-2 div.sk-label input.sk-toggleable__control:checked~label.sk-toggleable__label {background-color: #d4ebff;}#sk-container-id-2 input.sk-hidden--visually {border: 0;clip: rect(1px 1px 1px 1px);clip: rect(1px, 1px, 1px, 1px);height: 1px;margin: -1px;overflow: hidden;padding: 0;position: absolute;width: 1px;}#sk-container-id-2 div.sk-estimator {font-family: monospace;background-color: #f0f8ff;border: 1px dotted black;border-radius: 0.25em;box-sizing: border-box;margin-bottom: 0.5em;}#sk-container-id-2 div.sk-estimator:hover {background-color: #d4ebff;}#sk-container-id-2 div.sk-parallel-item::after {content: \"\";width: 100%;border-bottom: 1px solid gray;flex-grow: 1;}#sk-container-id-2 div.sk-label:hover label.sk-toggleable__label {background-color: #d4ebff;}#sk-container-id-2 div.sk-serial::before {content: \"\";position: absolute;border-left: 1px solid gray;box-sizing: border-box;top: 0;bottom: 0;left: 50%;z-index: 0;}#sk-container-id-2 div.sk-serial {display: flex;flex-direction: column;align-items: center;background-color: white;padding-right: 0.2em;padding-left: 0.2em;position: relative;}#sk-container-id-2 div.sk-item {position: relative;z-index: 1;}#sk-container-id-2 div.sk-parallel {display: flex;align-items: stretch;justify-content: center;background-color: white;position: relative;}#sk-container-id-2 div.sk-item::before, #sk-container-id-2 div.sk-parallel-item::before {content: \"\";position: absolute;border-left: 1px solid gray;box-sizing: border-box;top: 0;bottom: 0;left: 50%;z-index: -1;}#sk-container-id-2 div.sk-parallel-item {display: flex;flex-direction: column;z-index: 1;position: relative;background-color: white;}#sk-container-id-2 div.sk-parallel-item:first-child::after {align-self: flex-end;width: 50%;}#sk-container-id-2 div.sk-parallel-item:last-child::after {align-self: flex-start;width: 50%;}#sk-container-id-2 div.sk-parallel-item:only-child::after {width: 0;}#sk-container-id-2 div.sk-dashed-wrapped {border: 1px dashed gray;margin: 0 0.4em 0.5em 0.4em;box-sizing: border-box;padding-bottom: 0.4em;background-color: white;}#sk-container-id-2 div.sk-label label {font-family: monospace;font-weight: bold;display: inline-block;line-height: 1.2em;}#sk-container-id-2 div.sk-label-container {text-align: center;}#sk-container-id-2 div.sk-container {/* jupyter's `normalize.less` sets `[hidden] { display: none; }` but bootstrap.min.css set `[hidden] { display: none !important; }` so we also need the `!important` here to be able to override the default hidden behavior on the sphinx rendered scikit-learn.org. See: https://github.com/scikit-learn/scikit-learn/issues/21755 */display: inline-block !important;position: relative;}#sk-container-id-2 div.sk-text-repr-fallback {display: none;}</style><div id=\"sk-container-id-2\" class=\"sk-top-container\"><div class=\"sk-text-repr-fallback\"><pre>LinearRegression()</pre><b>In a Jupyter environment, please rerun this cell to show the HTML representation or trust the notebook. <br />On GitHub, the HTML representation is unable to render, please try loading this page with nbviewer.org.</b></div><div class=\"sk-container\" hidden><div class=\"sk-item\"><div class=\"sk-estimator sk-toggleable\"><input class=\"sk-toggleable__control sk-hidden--visually\" id=\"sk-estimator-id-2\" type=\"checkbox\" checked><label for=\"sk-estimator-id-2\" class=\"sk-toggleable__label sk-toggleable__label-arrow\">LinearRegression</label><div class=\"sk-toggleable__content\"><pre>LinearRegression()</pre></div></div></div></div></div>"
      ],
      "text/plain": [
       "LinearRegression()"
      ]
     },
     "execution_count": 58,
     "metadata": {},
     "output_type": "execute_result"
    }
   ],
   "source": [
    "model = LinearRegression()\n",
    "model.fit(x_train, y_train)\n"
   ]
  },
  {
   "cell_type": "code",
   "execution_count": 59,
   "id": "471d4281-35fa-4778-b9e7-7dac5602ae53",
   "metadata": {},
   "outputs": [
    {
     "name": "stdout",
     "output_type": "stream",
     "text": [
      "[10.68909303  8.67371102  9.59969914 24.99989846 14.73590568  8.37604918\n",
      " 10.70350416 18.37670708  9.9670026  17.87946837 23.52765543 10.70692059\n",
      " 13.37566958 17.10051561 11.77005197 13.31194616 21.13395461  9.10945664\n",
      " 14.24009701 18.86885012 25.00670623 12.42508633 16.61899482 13.84289673\n",
      "  7.80458355 15.13012055 14.69687153 20.70140682 16.9844145   8.94984434\n",
      " 12.59168427 20.93257626 21.34337227 21.89151357  7.23908022  7.06001103\n",
      "  9.28335812 15.6840471  13.33894748  7.28903633 11.05676585  9.08768206\n",
      " 15.60592891 18.21716827 18.9560652  13.47385617  5.36520991 10.59696871\n",
      " 15.66036131 10.98229096 12.20805533 20.70970272 20.70533061 16.95931925\n",
      "  9.96622132  9.44413497 23.60505449 15.99066008 18.06706692  8.25675464]\n"
     ]
    }
   ],
   "source": [
    "res=model.predict(x_test)\n",
    "print(res)"
   ]
  },
  {
   "cell_type": "code",
   "execution_count": 60,
   "id": "502fef0d-3b82-441d-91b9-7e9c0e8fe0a9",
   "metadata": {},
   "outputs": [
    {
     "name": "stdout",
     "output_type": "stream",
     "text": [
      "18     11.3\n",
      "170     8.4\n",
      "107    12.0\n",
      "98     25.4\n",
      "177    16.7\n",
      "182     8.7\n",
      "5       7.2\n",
      "146    18.2\n",
      "12      9.2\n",
      "152    16.6\n",
      "61     24.2\n",
      "125    10.6\n",
      "180    15.5\n",
      "154    20.6\n",
      "80     11.8\n",
      "7      13.2\n",
      "33     17.4\n",
      "130     1.6\n",
      "37     14.7\n",
      "74     17.0\n",
      "183    26.2\n",
      "145    10.3\n",
      "45     16.1\n",
      "159    12.9\n",
      "60      8.1\n",
      "123    15.2\n",
      "179    17.6\n",
      "185    22.6\n",
      "122    16.6\n",
      "44      8.5\n",
      "16     12.5\n",
      "55     23.7\n",
      "150    16.1\n",
      "111    21.8\n",
      "22      5.6\n",
      "189     6.7\n",
      "129     9.7\n",
      "4      17.9\n",
      "83     13.6\n",
      "106     7.2\n",
      "134    10.8\n",
      "66     11.0\n",
      "26     15.0\n",
      "113    20.9\n",
      "168    17.1\n",
      "63     14.0\n",
      "8       4.8\n",
      "75      8.7\n",
      "118    15.9\n",
      "143    10.4\n",
      "71     12.4\n",
      "124    19.7\n",
      "184    17.6\n",
      "97     20.5\n",
      "149    10.1\n",
      "24      9.7\n",
      "30     21.4\n",
      "160    16.4\n",
      "40     16.6\n",
      "56      5.5\n",
      "Name: Sales, dtype: float64\n"
     ]
    }
   ],
   "source": [
    "print(y_test)"
   ]
  },
  {
   "cell_type": "code",
   "execution_count": 61,
   "id": "40afc1b5-f910-400f-8b99-806ee43c97b1",
   "metadata": {},
   "outputs": [
    {
     "data": {
      "text/plain": [
       "0.869205273491013"
      ]
     },
     "execution_count": 61,
     "metadata": {},
     "output_type": "execute_result"
    }
   ],
   "source": [
    "model.score(x_test,y_test)"
   ]
  },
  {
   "cell_type": "code",
   "execution_count": 62,
   "id": "a21aeefb-b57c-40db-a1be-05f8d8d33c74",
   "metadata": {},
   "outputs": [
    {
     "data": {
      "text/plain": [
       "0.9159933497916115"
      ]
     },
     "execution_count": 62,
     "metadata": {},
     "output_type": "execute_result"
    }
   ],
   "source": [
    "model.score(x_train,y_train)"
   ]
  },
  {
   "cell_type": "code",
   "execution_count": 63,
   "id": "981efb77-69d2-44fa-a20c-8ac2502b7a07",
   "metadata": {},
   "outputs": [
    {
     "data": {
      "text/plain": [
       "array([0.05365017, 0.11073062, 0.00203697])"
      ]
     },
     "execution_count": 63,
     "metadata": {},
     "output_type": "execute_result"
    }
   ],
   "source": [
    "model.coef_"
   ]
  },
  {
   "cell_type": "code",
   "execution_count": 64,
   "id": "c0cf9d1d-9cba-4dbf-83a1-af57af82d411",
   "metadata": {},
   "outputs": [
    {
     "data": {
      "text/plain": [
       "4.669247212392516"
      ]
     },
     "execution_count": 64,
     "metadata": {},
     "output_type": "execute_result"
    }
   ],
   "source": [
    "model.intercept_"
   ]
  },
  {
   "cell_type": "code",
   "execution_count": 65,
   "id": "edbabe13-c5c2-4f10-9eaf-5c9a70cf1fad",
   "metadata": {},
   "outputs": [
    {
     "data": {
      "text/plain": [
       "[<matplotlib.lines.Line2D at 0x26a77cd2e90>]"
      ]
     },
     "execution_count": 65,
     "metadata": {},
     "output_type": "execute_result"
    },
    {
     "data": {
      "image/png": "[encoded data removed]",
      "text/plain": [
       "<Figure size 640x480 with 1 Axes>"
      ]
     },
     "metadata": {},
     "output_type": "display_data"
    }
   ],
   "source": [
    "plt.plot(res)"
   ]
  },
  {
   "cell_type": "code",
   "execution_count": 67,
   "id": "6d458518-36ac-417b-aed7-3507e9de0774",
   "metadata": {},
   "outputs": [
    {
     "name": "stdout",
     "output_type": "stream",
     "text": [
      "Predictions on test data:\n",
      "[10.68909303  8.67371102  9.59969914 24.99989846 14.73590568  8.37604918\n",
      " 10.70350416 18.37670708  9.9670026  17.87946837 23.52765543 10.70692059\n",
      " 13.37566958 17.10051561 11.77005197 13.31194616 21.13395461  9.10945664\n",
      " 14.24009701 18.86885012 25.00670623 12.42508633 16.61899482 13.84289673\n",
      "  7.80458355 15.13012055 14.69687153 20.70140682 16.9844145   8.94984434\n",
      " 12.59168427 20.93257626 21.34337227 21.89151357  7.23908022  7.06001103\n",
      "  9.28335812 15.6840471  13.33894748  7.28903633 11.05676585  9.08768206\n",
      " 15.60592891 18.21716827 18.9560652  13.47385617  5.36520991 10.59696871\n",
      " 15.66036131 10.98229096 12.20805533 20.70970272 20.70533061 16.95931925\n",
      "  9.96622132  9.44413497 23.60505449 15.99066008 18.06706692  8.25675464]\n",
      "Actual values from test data:\n",
      "18     11.3\n",
      "170     8.4\n",
      "107    12.0\n",
      "98     25.4\n",
      "177    16.7\n",
      "182     8.7\n",
      "5       7.2\n",
      "146    18.2\n",
      "12      9.2\n",
      "152    16.6\n",
      "61     24.2\n",
      "125    10.6\n",
      "180    15.5\n",
      "154    20.6\n",
      "80     11.8\n",
      "7      13.2\n",
      "33     17.4\n",
      "130     1.6\n",
      "37     14.7\n",
      "74     17.0\n",
      "183    26.2\n",
      "145    10.3\n",
      "45     16.1\n",
      "159    12.9\n",
      "60      8.1\n",
      "123    15.2\n",
      "179    17.6\n",
      "185    22.6\n",
      "122    16.6\n",
      "44      8.5\n",
      "16     12.5\n",
      "55     23.7\n",
      "150    16.1\n",
      "111    21.8\n",
      "22      5.6\n",
      "189     6.7\n",
      "129     9.7\n",
      "4      17.9\n",
      "83     13.6\n",
      "106     7.2\n",
      "134    10.8\n",
      "66     11.0\n",
      "26     15.0\n",
      "113    20.9\n",
      "168    17.1\n",
      "63     14.0\n",
      "8       4.8\n",
      "75      8.7\n",
      "118    15.9\n",
      "143    10.4\n",
      "71     12.4\n",
      "124    19.7\n",
      "184    17.6\n",
      "97     20.5\n",
      "149    10.1\n",
      "24      9.7\n",
      "30     21.4\n",
      "160    16.4\n",
      "40     16.6\n",
      "56      5.5\n",
      "Name: Sales, dtype: float64\n"
     ]
    }
   ],
   "source": [
    "print(\"Predictions on test data:\")\n",
    "print(res)\n",
    "print(\"Actual values from test data:\")\n",
    "print(y_test)"
   ]
  },
  {
   "cell_type": "code",
   "execution_count": 68,
   "id": "3650d7a8-6839-44ce-857e-d48f4ffcff71",
   "metadata": {},
   "outputs": [
    {
     "name": "stdin",
     "output_type": "stream",
     "text": [
      "Enter the TV advertising budget:  120\n",
      "Enter the Radio advertising budget:  12\n",
      "Enter the Newspaper advertising budget:  124\n"
     ]
    },
    {
     "name": "stdout",
     "output_type": "stream",
     "text": [
      "Predicted sales for TV=120.0, Radio=12.0, Newspaper=124.0 is: 12.69\n"
     ]
    }
   ],
   "source": [
    "tv_input = float(input(\"Enter the TV advertising budget: \"))\n",
    "radio_input = float(input(\"Enter the Radio advertising budget: \"))\n",
    "newspaper_input = float(input(\"Enter the Newspaper advertising budget: \"))\n",
    "\n",
    "# Create a DataFrame for the user's input using the same feature names\n",
    "user_input = pd.DataFrame({\n",
    "    'TV': [tv_input],\n",
    "    'Radio': [radio_input],\n",
    "    'Newspaper': [newspaper_input]\n",
    "})\n",
    "\n",
    "# Predict sales based on user input\n",
    "predicted_sales = model.predict(user_input)\n",
    "\n",
    "# Display the predicted sales\n",
    "print(f\"Predicted sales for TV={tv_input}, Radio={radio_input}, Newspaper={newspaper_input} is: {predicted_sales[0]:.2f}\")"
   ]
  },
  {
   "cell_type": "code",
   "execution_count": 69,
   "id": "3013cae4-8e8e-477f-92c8-d3f9a8984171",
   "metadata": {},
   "outputs": [
    {
     "name": "stdout",
     "output_type": "stream",
     "text": [
      "Model saved to advertising_sales_model.pkl\n"
     ]
    }
   ],
   "source": [
    "import pickle\n",
    "\n",
    "# Save the trained model to a file\n",
    "model_filename = 'advertising_sales_model.pkl'\n",
    "with open(model_filename, 'wb') as file:\n",
    "    pickle.dump(model, file)\n",
    "\n",
    "print(f\"Model saved to {model_filename}\")"
   ]
  },
  {
   "cell_type": "code",
   "execution_count": null,
   "id": "d1ad61ab-3d17-47fa-b931-6191849f3d90",
   "metadata": {},
   "outputs": [],
   "source": []
  }
 ],
 "metadata": {
  "kernelspec": {
   "display_name": "Python 3 (ipykernel)",
   "language": "python",
   "name": "python3"
  },
  "language_info": {
   "codemirror_mode": {
    "name": "ipython",
    "version": 3
   },
   "file_extension": ".py",
   "mimetype": "text/x-python",
   "name": "python",
   "nbconvert_exporter": "python",
   "pygments_lexer": "ipython3",
   "version": "3.11.7"
  }
 },
 "nbformat": 4,
 "nbformat_minor": 5
}
